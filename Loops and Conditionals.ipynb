{
 "cells": [
  {
   "cell_type": "code",
   "execution_count": 23,
   "id": "301a99bb",
   "metadata": {
    "scrolled": true
   },
   "outputs": [
    {
     "name": "stdout",
     "output_type": "stream",
     "text": [
      "enter a number between 1 and 10: 6\n",
      "just right\n"
     ]
    }
   ],
   "source": [
    "'4.1'\n",
    "secret = 6\n",
    "guess=int(input(\"enter a number between 1 and 10: \"))\n",
    "if guess > secret:\n",
    "    print(\"To high\")\n",
    "elif guess < secret:\n",
    "    print(\"To low\")\n",
    "else:\n",
    "    print(\"just right\")"
   ]
  },
  {
   "cell_type": "code",
   "execution_count": 32,
   "id": "778506b3",
   "metadata": {
    "scrolled": true
   },
   "outputs": [
    {
     "name": "stdout",
     "output_type": "stream",
     "text": [
      "watermelon\n"
     ]
    }
   ],
   "source": [
    "'4.2'\n",
    "green=True\n",
    "small=False\n",
    "if green and not small:\n",
    "    print(\"watermelon\")\n",
    "elif green and small:\n",
    "    print(\"pea\")\n",
    "elif small and not green:\n",
    "    print(\"cherry\")\n",
    "elif not small and not green:\n",
    "    print(\"pumpkin\")"
   ]
  },
  {
   "cell_type": "code",
   "execution_count": 36,
   "id": "7b63ee0c",
   "metadata": {},
   "outputs": [
    {
     "name": "stdout",
     "output_type": "stream",
     "text": [
      "3\n",
      "2\n",
      "1\n",
      "0\n"
     ]
    }
   ],
   "source": [
    "'6.1'\n",
    "for x in range(3,-1,-1):\n",
    "    print(x)"
   ]
  },
  {
   "cell_type": "code",
   "execution_count": 52,
   "id": "20fc1b8a",
   "metadata": {
    "scrolled": true
   },
   "outputs": [
    {
     "name": "stdout",
     "output_type": "stream",
     "text": [
      "to low\n",
      "to low\n",
      "to low\n",
      "to low\n",
      "to low\n",
      "to low\n",
      "found it!\n"
     ]
    }
   ],
   "source": [
    "'6.2'\n",
    "guess_me=7\n",
    "number=1\n",
    "while number <= guess_me:\n",
    "    if number < guess_me:\n",
    "        print(\"to low\")\n",
    "    elif number == guess_me:\n",
    "        print(\"found it!\")\n",
    "        break\n",
    "    else:\n",
    "        print(\"oops\")\n",
    "        break\n",
    "    number=number+1"
   ]
  },
  {
   "cell_type": "code",
   "execution_count": 57,
   "id": "0c610506",
   "metadata": {},
   "outputs": [
    {
     "name": "stdout",
     "output_type": "stream",
     "text": [
      "to low\n",
      "to low\n",
      "to low\n",
      "to low\n",
      "found it!\n"
     ]
    }
   ],
   "source": [
    "'6.3'\n",
    "guess_me=5\n",
    "for number in range(1,10):\n",
    "    if number < guess_me:\n",
    "        print(\"to low\")\n",
    "    elif number==guess_me:\n",
    "        print(\"found it!\")\n",
    "        break\n",
    "    else:\n",
    "        print(\"oops\")\n",
    "        break"
   ]
  }
 ],
 "metadata": {
  "kernelspec": {
   "display_name": "Python 3 (ipykernel)",
   "language": "python",
   "name": "python3"
  },
  "language_info": {
   "codemirror_mode": {
    "name": "ipython",
    "version": 3
   },
   "file_extension": ".py",
   "mimetype": "text/x-python",
   "name": "python",
   "nbconvert_exporter": "python",
   "pygments_lexer": "ipython3",
   "version": "3.11.5"
  }
 },
 "nbformat": 4,
 "nbformat_minor": 5
}
